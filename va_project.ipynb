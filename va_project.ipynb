{
 "cells": [
  {
   "cell_type": "markdown",
   "metadata": {},
   "source": [
    "### Imports"
   ]
  },
  {
   "cell_type": "code",
   "execution_count": 1,
   "metadata": {
    "scrolled": true
   },
   "outputs": [
    {
     "name": "stderr",
     "output_type": "stream",
     "text": [
      "[nltk_data] Downloading package stopwords to\n",
      "[nltk_data]     C:\\Users\\hibsb\\AppData\\Roaming\\nltk_data...\n",
      "[nltk_data]   Package stopwords is already up-to-date!\n",
      "[nltk_data] Downloading package punkt to\n",
      "[nltk_data]     C:\\Users\\hibsb\\AppData\\Roaming\\nltk_data...\n",
      "[nltk_data]   Package punkt is already up-to-date!\n",
      "unable to import 'smart_open.gcs', disabling that module\n"
     ]
    }
   ],
   "source": [
    "from utils import *\n",
    "from tensorflow.keras.models import Sequential, Model, Model, save_model, load_model\n",
    "from tensorflow.keras.layers import LSTM, Embedding, Input, Dense, add\n",
    "from tensorflow.keras.utils import plot_model\n",
    "from tensorflow.keras.preprocessing.text import Tokenizer\n",
    "import matplotlib.pyplot as plt"
   ]
  },
  {
   "cell_type": "markdown",
   "metadata": {},
   "source": [
    "### Loading data "
   ]
  },
  {
   "cell_type": "code",
   "execution_count": 2,
   "metadata": {},
   "outputs": [],
   "source": [
    "# Location of the Flickr8k images and caption files\n",
    "dataset_image_path =\"flickr8k/Images/\"\n",
    "dataset_text_path  =\"flickr8k/captions.txt\" \n",
    "# Wanted shape for images\n",
    "wanted_shape = (224,224,3)"
   ]
  },
  {
   "cell_type": "code",
   "execution_count": 3,
   "metadata": {},
   "outputs": [
    {
     "name": "stdout",
     "output_type": "stream",
     "text": [
      "df_texts loaded\n",
      "                       image  \\\n",
      "0  1000268201_693b08cb0e.jpg   \n",
      "1  1000268201_693b08cb0e.jpg   \n",
      "2  1000268201_693b08cb0e.jpg   \n",
      "3  1000268201_693b08cb0e.jpg   \n",
      "4  1000268201_693b08cb0e.jpg   \n",
      "\n",
      "                                             caption  \\\n",
      "0  A child in a pink dress is climbing up a set o...   \n",
      "1              A girl going into a wooden building .   \n",
      "2   A little girl climbing into a wooden playhouse .   \n",
      "3  A little girl climbing the stairs to her playh...   \n",
      "4  A little girl in a pink dress going into a woo...   \n",
      "\n",
      "                                             cleaned  \\\n",
      "0  startseq child pink dress climbing set stairs ...   \n",
      "1        startseq girl going wooden building  endseq   \n",
      "2  startseq little girl climbing wooden playhouse...   \n",
      "3  startseq little girl climbing stairs playhouse...   \n",
      "4  startseq little girl pink dress going wooden c...   \n",
      "\n",
      "                                   cleaned_tokenized  \n",
      "0  ['startseq', 'child', 'pink', 'dress', 'climbi...  \n",
      "1  ['startseq', 'girl', 'going', 'wooden', 'build...  \n",
      "2  ['startseq', 'little', 'girl', 'climbing', 'wo...  \n",
      "3  ['startseq', 'little', 'girl', 'climbing', 'st...  \n",
      "4  ['startseq', 'little', 'girl', 'pink', 'dress'...  \n"
     ]
    }
   ],
   "source": [
    "# To obtain the text dataset corresponding to images\n",
    "train, infer = False, True\n",
    "\n",
    "if train:\n",
    "    df_texts = pd.read_csv(dataset_text_path, sep=\",\") #[\"image\",\"caption\"] \n",
    "elif infer:\n",
    "    df_texts = pd.read_csv(\"df_texts.csv\", index_col=0) # [\"image\",\"caption\",\"cleaned\",\"cleaned_tokenized\"]\n",
    "    print(\"df_texts loaded\")\n",
    "    print(df_texts.head())\n",
    "\n",
    "n_img = df_texts.count()/5 # 40455/5 \n",
    "unique_img = pd.unique(df_texts[\"image\"])# 8091 unique images"
   ]
  },
  {
   "cell_type": "markdown",
   "metadata": {},
   "source": [
    "### Preprocessing images with pretrained VGG16 : FEATURE MAPS 4096"
   ]
  },
  {
   "cell_type": "code",
   "execution_count": 4,
   "metadata": {},
   "outputs": [],
   "source": [
    "base_model = VGG16(\n",
    "    include_top=True, weights='imagenet', input_tensor=None,\n",
    "    input_shape=wanted_shape, pooling=None, classes=1000\n",
    ")\n",
    "# Feature extraction\n",
    "vgg_model = Model(inputs=base_model.input, outputs=base_model.get_layer('fc2').output) #end the modèle with a 4096 feature layer"
   ]
  },
  {
   "cell_type": "code",
   "execution_count": 5,
   "metadata": {
    "tags": []
   },
   "outputs": [
    {
     "name": "stdout",
     "output_type": "stream",
     "text": [
      "Image feature maps loaded : (8091, 4096)\n"
     ]
    }
   ],
   "source": [
    "charge_image, one_by_one = False, False# false to gain time when testing other parts\n",
    "# To obtain the feature maps\n",
    "if train :\n",
    "    if charge_image:\n",
    "        dimages = np.array([vgg_model.predict(load_img_from_ds(unique_img[i])) for i in range(len(unique_img))])\n",
    "        print(f\"Shape des fm {dimages.shape}\")\n",
    "    elif one_by_one:\n",
    "        dimages=[]\n",
    "        for i in range(len(unique_img)):\n",
    "            if i!=0:\n",
    "                print(f\"{i}/{len(unique_img)} - time elapsed :{time.time()-a}\")\n",
    "            else:\n",
    "                print(f\"{i}/{len(unique_img)}\")\n",
    "            a=time.time()\n",
    "            img = load_img_from_ds(unique_img[i])\n",
    "            feature_map = vgg_model.predict(img)\n",
    "            dimages.append(feature_map)\n",
    "        dimages=np.array(dimages)\n",
    "        #save to csv\n",
    "        feature_maps_sav=dimages[:,0,:]\n",
    "        df_fm = pd.DataFrame(feature_maps_sav)\n",
    "        df_fm.to_csv(\"image_feature_maps.csv\")\n",
    "\n",
    "elif infer:\n",
    "    df_fm = pd.read_csv(\"image_feature_maps.csv\")\n",
    "    dimages = np.array(df_fm.drop([df_fm.columns[0]], axis=1))\n",
    "    print(f\"Image feature maps loaded : {dimages.shape}\")"
   ]
  },
  {
   "cell_type": "markdown",
   "metadata": {},
   "source": [
    "### Preprocessing captions - WORD2VEC : EMBEDDINGS 4096"
   ]
  },
  {
   "cell_type": "code",
   "execution_count": 6,
   "metadata": {
    "scrolled": true
   },
   "outputs": [],
   "source": [
    "# Text preprocessing\n",
    "df_texts[\"cleaned\"]=[process_sentence(s) for s in df_texts[\"caption\"]]\n",
    "df_texts[\"cleaned_tokenized\"]=[word_tokenize(w) for w in df_texts[\"cleaned\"]]"
   ]
  },
  {
   "cell_type": "code",
   "execution_count": 7,
   "metadata": {},
   "outputs": [
    {
     "name": "stderr",
     "output_type": "stream",
     "text": [
      "C:\\Users\\hibsb\\AppData\\Roaming\\Python\\Python36\\site-packages\\keras_preprocessing\\text.py:180: UserWarning: The `nb_words` argument in `Tokenizer` has been renamed `num_words`.\n",
      "  warnings.warn('The `nb_words` argument in `Tokenizer` '\n"
     ]
    },
    {
     "name": "stdout",
     "output_type": "stream",
     "text": [
      "vocabulary size : 8748\n",
      "[[1, 26, 62, 134, 88, 343, 340, 5109, 631, 2], [1, 10, 266, 156, 86, 2], [1, 24, 10, 88, 156, 2344, 2], [1, 24, 10, 88, 340, 2344, 2], [1, 24, 10, 62, 134, 266, 156, 2903, 2]]\n"
     ]
    }
   ],
   "source": [
    "nb_words = 8000\n",
    "tokenizer = Tokenizer(nb_words=nb_words)\n",
    "tokenizer.fit_on_texts(df_texts[\"cleaned_tokenized\"])\n",
    "vocab_size = len(tokenizer.word_index) + 1\n",
    "print(\"vocabulary size : {}\".format(vocab_size))\n",
    "dtexts = tokenizer.texts_to_sequences(df_texts[\"cleaned_tokenized\"])\n",
    "print(dtexts[:5])"
   ]
  },
  {
   "cell_type": "markdown",
   "metadata": {},
   "source": [
    "### Preparing total model inputs"
   ]
  },
  {
   "cell_type": "code",
   "execution_count": 8,
   "metadata": {},
   "outputs": [
    {
     "name": "stdout",
     "output_type": "stream",
     "text": [
      "Images duplicated (8091, 4096)\n"
     ]
    }
   ],
   "source": [
    "dfeaturemaps = dimages\n",
    "print(f\"Images duplicated {dfeaturemaps.shape}\")"
   ]
  },
  {
   "cell_type": "code",
   "execution_count": 9,
   "metadata": {},
   "outputs": [],
   "source": [
    "# Split du dataset\n",
    "prop_test, prop_val = 0.2, 0.2\n",
    "N = dfeaturemaps.shape[0]#len(df_texts[\"cleaned_tokenized\"])\n",
    "M = len(dtexts)\n",
    "Ntest, Nval = int(N*prop_test), int(N*prop_val)\n",
    "Mtest, Mval = int(M*prop_test), int(M*prop_val)\n",
    "\n",
    "\n",
    "Nimg = len(dimages)\n",
    "# dt = true image caption cleaned\n",
    "dt_test, dt_val, dt_train = split_test_val_train(dtexts, Mtest, Mval)\n",
    "# di = true image array\n",
    "di_test, di_val, di_train = split_test_val_train(dfeaturemaps, Ntest, Nval)\n",
    "# fnm = image_name\n",
    "fnm_test, fnm_val, fnm_train = split_test_val_train(df_texts[\"image\"], Mtest, Mval)"
   ]
  },
  {
   "cell_type": "code",
   "execution_count": 10,
   "metadata": {},
   "outputs": [
    {
     "name": "stdout",
     "output_type": "stream",
     "text": [
      " Train: text 24273, image (4855, 4096), fnm (24273,)\n",
      " Test : text 8091, image (1618, 4096), fnm (8091,)\n",
      " Val  : text 8091, image (1618, 4096), fnm (8091,)\n"
     ]
    }
   ],
   "source": [
    "print(f\" Train: text {len(dt_train)}, image {di_train.shape}, fnm {fnm_train.shape}\")\n",
    "print(f\" Test : text {len(dt_test)}, image {di_test.shape}, fnm {fnm_test.shape}\")\n",
    "print(f\" Val  : text {len(dt_val)}, image {di_val.shape}, fnm {fnm_val.shape}\")"
   ]
  },
  {
   "cell_type": "code",
   "execution_count": 11,
   "metadata": {},
   "outputs": [],
   "source": [
    "maxlen = np.max([len(text) for text in dtexts])"
   ]
  },
  {
   "cell_type": "code",
   "execution_count": 12,
   "metadata": {},
   "outputs": [
    {
     "name": "stdout",
     "output_type": "stream",
     "text": [
      "# captions/images = 24273\n",
      "Number of step/associated image and caption 4855\n",
      "# captions/images = 8091\n",
      "Number of step/associated image and caption 1618\n",
      "Vocab size 8747\n",
      "Training set : \n",
      " \tInput image : (34717, 4096)\n",
      "\tInput text : (34717, 22)\n",
      "\tOutput text : (34717, 8747)\n"
     ]
    }
   ],
   "source": [
    "vocab_size = 8747#len(word2vec_model.wv.vocab)\n",
    "\n",
    "Xtext_train, Ximage_train, ytext_train, maxlen = finalpreprocessing(dt_train, di_train, vocab_size, maxlen) \n",
    "Xtext_val, Ximage_val, ytext_val, _ = finalpreprocessing(dt_val, di_val, vocab_size, maxlen)\n",
    "\n",
    "print(f\"Vocab size {vocab_size}\")\n",
    "print(f\"Training set : \\n \\tInput image : {Ximage_train.shape}\\n\\tInput text : {Xtext_train.shape}\\n\\tOutput text : {ytext_train.shape}\")"
   ]
  },
  {
   "cell_type": "markdown",
   "metadata": {},
   "source": [
    "### RNN Model "
   ]
  },
  {
   "cell_type": "code",
   "execution_count": 13,
   "metadata": {},
   "outputs": [
    {
     "name": "stdout",
     "output_type": "stream",
     "text": [
      "Model: \"functional_3\"\n",
      "__________________________________________________________________________________________________\n",
      "Layer (type)                    Output Shape         Param #     Connected to                     \n",
      "==================================================================================================\n",
      "InputSequence (InputLayer)      [(None, 22)]         0                                            \n",
      "__________________________________________________________________________________________________\n",
      "embedding (Embedding)           (None, 22, 64)       559808      InputSequence[0][0]              \n",
      "__________________________________________________________________________________________________\n",
      "InputImage (InputLayer)         [(None, 4096)]       0                                            \n",
      "__________________________________________________________________________________________________\n",
      "CaptionFeatures (LSTM)          (None, 256)          328704      embedding[0][0]                  \n",
      "__________________________________________________________________________________________________\n",
      "CompressedImageFeatures (Dense) (None, 256)          1048832     InputImage[0][0]                 \n",
      "__________________________________________________________________________________________________\n",
      "add (Add)                       (None, 256)          0           CaptionFeatures[0][0]            \n",
      "                                                                 CompressedImageFeatures[0][0]    \n",
      "__________________________________________________________________________________________________\n",
      "dense (Dense)                   (None, 256)          65792       add[0][0]                        \n",
      "__________________________________________________________________________________________________\n",
      "dense_1 (Dense)                 (None, 8747)         2247979     dense[0][0]                      \n",
      "==================================================================================================\n",
      "Total params: 4,251,115\n",
      "Trainable params: 4,251,115\n",
      "Non-trainable params: 0\n",
      "__________________________________________________________________________________________________\n",
      "None\n"
     ]
    }
   ],
   "source": [
    "dim_embedding=64\n",
    "\n",
    "# image input\n",
    "input_img = Input(shape=(Ximage_train.shape[1],), name=\"InputImage\")\n",
    "input_img_2 = Dense(256,activation='relu',name=\"CompressedImageFeatures\")(input_img)\n",
    "# text input\n",
    "input_txt = Input(shape=(maxlen,), name=\"InputSequence\")\n",
    "input_txt_2 = Embedding(vocab_size,dim_embedding, mask_zero=True)(input_txt)\n",
    "input_txt_3 = LSTM(units=256, activation=\"relu\", name=\"CaptionFeatures\")(input_txt_2)\n",
    "\n",
    "# Common part\n",
    "common = add([input_txt_3, input_img_2])\n",
    "common = Dense(256, activation='relu')(common)\n",
    "common = Dense(vocab_size, activation='softmax')(common)\n",
    "\n",
    "#Model\n",
    "total_model  = Model(inputs=[input_img, input_txt],outputs=common)\n",
    "\n",
    "total_model.compile(loss='categorical_crossentropy', optimizer='adam')\n",
    "print(total_model.summary())"
   ]
  },
  {
   "cell_type": "code",
   "execution_count": 14,
   "metadata": {},
   "outputs": [
    {
     "name": "stdout",
     "output_type": "stream",
     "text": [
      "('Failed to import pydot. You must `pip install pydot` and install graphviz (https://graphviz.gitlab.io/download/), ', 'for `pydotprint` to work.')\n"
     ]
    }
   ],
   "source": [
    "plot_model(total_model, to_file=\"model.png\")"
   ]
  },
  {
   "cell_type": "markdown",
   "metadata": {},
   "source": [
    "### Model training "
   ]
  },
  {
   "cell_type": "code",
   "execution_count": 15,
   "metadata": {},
   "outputs": [
    {
     "name": "stdout",
     "output_type": "stream",
     "text": [
      "Epoch 1/5\n",
      "543/543 [==============================] - 66s 121ms/step - loss: 6.0856 - val_loss: 5.7917\n",
      "Epoch 2/5\n",
      "543/543 [==============================] - 64s 118ms/step - loss: 5.4176 - val_loss: 5.6697\n",
      "Epoch 3/5\n",
      "543/543 [==============================] - 66s 122ms/step - loss: 5.1330 - val_loss: 5.6092\n",
      "Epoch 4/5\n",
      "543/543 [==============================] - 66s 121ms/step - loss: 4.8900 - val_loss: 5.5753\n",
      "Epoch 5/5\n",
      "543/543 [==============================] - 68s 126ms/step - loss: 4.6509 - val_loss: 5.6466\n"
     ]
    }
   ],
   "source": [
    "hist = total_model.fit([Ximage_train, Xtext_train], ytext_train, epochs=5, verbose=1, batch_size=64, validation_data=([Ximage_val, Xtext_val], ytext_val))\n",
    "save_model(total_model, \"model.h5\")"
   ]
  },
  {
   "cell_type": "markdown",
   "metadata": {},
   "source": [
    "### Model evaluation"
   ]
  },
  {
   "cell_type": "code",
   "execution_count": 16,
   "metadata": {},
   "outputs": [
    {
     "data": {
      "image/png": "[encoded data removed]",
      "text/plain": [
       "<Figure size 432x288 with 1 Axes>"
      ]
     },
     "metadata": {
      "needs_background": "light"
     },
     "output_type": "display_data"
    }
   ],
   "source": [
    "for label in [\"loss\", \"val_loss\"]:\n",
    "    plt.plot(hist.history[label], label=label)\n",
    "plt.legend()\n",
    "plt.xlabel(\"Epochs\")\n",
    "plt.ylabel(\"Loss\")\n",
    "plt.show()"
   ]
  },
  {
   "cell_type": "code",
   "execution_count": 17,
   "metadata": {},
   "outputs": [],
   "source": [
    "# Loading model \n",
    "model = load_model('model.h5')"
   ]
  },
  {
   "cell_type": "code",
   "execution_count": 18,
   "metadata": {},
   "outputs": [
    {
     "ename": "KeyError",
     "evalue": "4",
     "output_type": "error",
     "traceback": [
      "\u001b[1;31m---------------------------------------------------------------------------\u001b[0m",
      "\u001b[1;31mKeyError\u001b[0m                                  Traceback (most recent call last)",
      "\u001b[1;32m<ipython-input-18-23f63417388d>\u001b[0m in \u001b[0;36m<module>\u001b[1;34m\u001b[0m\n\u001b[0;32m     16\u001b[0m \u001b[1;33m\u001b[0m\u001b[0m\n\u001b[0;32m     17\u001b[0m     \u001b[1;31m## captions\u001b[0m\u001b[1;33m\u001b[0m\u001b[1;33m\u001b[0m\u001b[1;33m\u001b[0m\u001b[0m\n\u001b[1;32m---> 18\u001b[1;33m     \u001b[0mcaption\u001b[0m \u001b[1;33m=\u001b[0m \u001b[0mpredict_caption\u001b[0m\u001b[1;33m(\u001b[0m\u001b[0mmodel\u001b[0m\u001b[1;33m,\u001b[0m\u001b[0mimage_feature\u001b[0m\u001b[1;33m.\u001b[0m\u001b[0mreshape\u001b[0m\u001b[1;33m(\u001b[0m\u001b[1;36m1\u001b[0m\u001b[1;33m,\u001b[0m\u001b[0mlen\u001b[0m\u001b[1;33m(\u001b[0m\u001b[0mimage_feature\u001b[0m\u001b[1;33m)\u001b[0m\u001b[1;33m)\u001b[0m\u001b[1;33m,\u001b[0m \u001b[0mmaxlen\u001b[0m\u001b[1;33m)\u001b[0m\u001b[1;33m\u001b[0m\u001b[1;33m\u001b[0m\u001b[0m\n\u001b[0m\u001b[0;32m     19\u001b[0m     \u001b[0max\u001b[0m \u001b[1;33m=\u001b[0m \u001b[0mfig\u001b[0m\u001b[1;33m.\u001b[0m\u001b[0madd_subplot\u001b[0m\u001b[1;33m(\u001b[0m\u001b[0mnpic\u001b[0m\u001b[1;33m,\u001b[0m\u001b[1;36m2\u001b[0m\u001b[1;33m,\u001b[0m\u001b[0mcount\u001b[0m\u001b[1;33m)\u001b[0m\u001b[1;33m\u001b[0m\u001b[1;33m\u001b[0m\u001b[0m\n\u001b[0;32m     20\u001b[0m     \u001b[0mplt\u001b[0m\u001b[1;33m.\u001b[0m\u001b[0maxis\u001b[0m\u001b[1;33m(\u001b[0m\u001b[1;34m'off'\u001b[0m\u001b[1;33m)\u001b[0m\u001b[1;33m\u001b[0m\u001b[1;33m\u001b[0m\u001b[0m\n",
      "\u001b[1;32m~\\Documents\\Work\\3A\\Vision_artificielle\\Projet_va\\projet_vision_artificielle\\utils.py\u001b[0m in \u001b[0;36mpredict_caption\u001b[1;34m(model, image, maxlen)\u001b[0m\n\u001b[0;32m    163\u001b[0m         \u001b[0myhat\u001b[0m \u001b[1;33m=\u001b[0m \u001b[0mmodel\u001b[0m\u001b[1;33m.\u001b[0m\u001b[0mpredict\u001b[0m\u001b[1;33m(\u001b[0m\u001b[1;33m[\u001b[0m\u001b[0mimage\u001b[0m\u001b[1;33m,\u001b[0m\u001b[0msequence\u001b[0m\u001b[1;33m]\u001b[0m\u001b[1;33m,\u001b[0m\u001b[0mverbose\u001b[0m\u001b[1;33m=\u001b[0m\u001b[1;36m0\u001b[0m\u001b[1;33m)\u001b[0m\u001b[1;33m\u001b[0m\u001b[1;33m\u001b[0m\u001b[0m\n\u001b[0;32m    164\u001b[0m         \u001b[0myhat\u001b[0m \u001b[1;33m=\u001b[0m \u001b[0mnp\u001b[0m\u001b[1;33m.\u001b[0m\u001b[0margmax\u001b[0m\u001b[1;33m(\u001b[0m\u001b[0myhat\u001b[0m\u001b[1;33m)\u001b[0m\u001b[1;33m\u001b[0m\u001b[1;33m\u001b[0m\u001b[0m\n\u001b[1;32m--> 165\u001b[1;33m         \u001b[0mnewword\u001b[0m \u001b[1;33m=\u001b[0m \u001b[0mindex_word\u001b[0m\u001b[1;33m[\u001b[0m\u001b[0myhat\u001b[0m\u001b[1;33m]\u001b[0m\u001b[1;33m\u001b[0m\u001b[1;33m\u001b[0m\u001b[0m\n\u001b[0m\u001b[0;32m    166\u001b[0m         \u001b[0min_text\u001b[0m \u001b[1;33m+=\u001b[0m \u001b[1;34m\" \"\u001b[0m \u001b[1;33m+\u001b[0m \u001b[0mnewword\u001b[0m\u001b[1;33m\u001b[0m\u001b[1;33m\u001b[0m\u001b[0m\n\u001b[0;32m    167\u001b[0m         \u001b[1;32mif\u001b[0m \u001b[0mnewword\u001b[0m \u001b[1;33m==\u001b[0m \u001b[1;34m\"endseq\"\u001b[0m\u001b[1;33m:\u001b[0m\u001b[1;33m\u001b[0m\u001b[1;33m\u001b[0m\u001b[0m\n",
      "\u001b[1;31mKeyError\u001b[0m: 4"
     ]
    },
    {
     "data": {
      "image/png": "[encoded data removed]",
      "text/plain": [
       "<Figure size 720x1440 with 1 Axes>"
      ]
     },
     "metadata": {},
     "output_type": "display_data"
    }
   ],
   "source": [
    "index_word = dict([(index,word) for word, index in tokenizer.word_index.items()])\n",
    "\n",
    "# Make predictions on image\n",
    "def predict_caption(model, image, maxlen):\n",
    "    in_text = 'startseq'\n",
    "    tokenizer = Tokenizer(nb_words=8000)\n",
    "    index_word = dict([(index,word) for word, index in tokenizer.word_index.items()])\n",
    "\n",
    "    for iword in range(maxlen):\n",
    "        sequence = tokenizer.texts_to_sequences([in_text])[0]\n",
    "        sequence = pad_sequences([sequence],maxlen)\n",
    "        yhat = model.predict([image,sequence],verbose=0)\n",
    "        yhat = np.argmax(yhat)\n",
    "        newword = index_word[yhat]\n",
    "        in_text += \" \" + newword\n",
    "        if newword == \"endseq\":\n",
    "            break\n",
    "    return(in_text)\n",
    "\n",
    "npic = 10\n",
    "npix = 224\n",
    "target_size = (npix,npix,3)\n",
    "\n",
    "count = 1\n",
    "fig = plt.figure(figsize=(10,20))\n",
    "for jpgfnm, image_feature in zip(fnm_test[:npic],di_test[:npic]):\n",
    "    ## images \n",
    "    filename = dataset_image_path + '/' + jpgfnm\n",
    "    image_load = load_img(filename, target_size=target_size)\n",
    "    ax = fig.add_subplot(npic,2,count,xticks=[],yticks=[])\n",
    "    ax.imshow(image_load)\n",
    "    count += 1\n",
    "\n",
    "    ## captions\n",
    "    caption = predict_caption(model,image_feature.reshape(1,len(image_feature)), maxlen)\n",
    "    ax = fig.add_subplot(npic,2,count)\n",
    "    plt.axis('off')\n",
    "    ax.plot()\n",
    "    ax.set_xlim(0,1)\n",
    "    ax.set_ylim(0,1)\n",
    "    ax.text(0,0.5,caption,fontsize=20)\n",
    "    count += 1\n",
    "\n",
    "plt.show()"
   ]
  },
  {
   "cell_type": "code",
   "execution_count": null,
   "metadata": {},
   "outputs": [],
   "source": []
  }
 ],
 "metadata": {
  "kernelspec": {
   "display_name": "Python 3",
   "language": "python",
   "name": "python3"
  },
  "language_info": {
   "codemirror_mode": {
    "name": "ipython",
    "version": 3
   },
   "file_extension": ".py",
   "mimetype": "text/x-python",
   "name": "python",
   "nbconvert_exporter": "python",
   "pygments_lexer": "ipython3",
   "version": "3.6.9"
  }
 },
 "nbformat": 4,
 "nbformat_minor": 4
}
